{
 "cells": [
  {
   "cell_type": "code",
   "execution_count": 1,
   "id": "c21397f9-d20b-408e-9a2a-8e567afed3d5",
   "metadata": {},
   "outputs": [
    {
     "name": "stderr",
     "output_type": "stream",
     "text": [
      "/tmp/ipykernel_97692/1155928800.py:6: MatplotlibDeprecationWarning: The seaborn styles shipped by Matplotlib are deprecated since 3.6, as they no longer correspond to the styles shipped by seaborn. However, they will remain available as 'seaborn-v0_8-<style>'. Alternatively, directly use the seaborn API instead.\n",
      "  plt.style.use('seaborn')\n"
     ]
    }
   ],
   "source": [
    "import pandas as pd\n",
    "import numpy as np\n",
    "import math\n",
    "import os\n",
    "import matplotlib.pyplot as plt\n",
    "plt.style.use('seaborn')"
   ]
  },
  {
   "cell_type": "code",
   "execution_count": 2,
   "id": "a77f7884-7024-4a4d-8b49-e6024dbde037",
   "metadata": {},
   "outputs": [],
   "source": [
    "df1 = pd.read_csv('XAU_USD_Historical_Data_2000_2010.csv', parse_dates=[0])\n",
    "df2 = pd.read_csv('XAU_USD_Historical_Data_2010_2023.csv', parse_dates=[0])"
   ]
  },
  {
   "cell_type": "code",
   "execution_count": 3,
   "id": "9ad5d3a3-2f22-4805-bc4b-daa07ec39273",
   "metadata": {},
   "outputs": [],
   "source": [
    "dfs = [df2, df1]\n",
    "gold_usd = pd.concat(dfs)"
   ]
  },
  {
   "cell_type": "code",
   "execution_count": 4,
   "id": "8acb40f6-6b27-42b2-bcd9-50a178c971c3",
   "metadata": {},
   "outputs": [
    {
     "data": {
      "text/html": [
       "<div>\n",
       "<style scoped>\n",
       "    .dataframe tbody tr th:only-of-type {\n",
       "        vertical-align: middle;\n",
       "    }\n",
       "\n",
       "    .dataframe tbody tr th {\n",
       "        vertical-align: top;\n",
       "    }\n",
       "\n",
       "    .dataframe thead th {\n",
       "        text-align: right;\n",
       "    }\n",
       "</style>\n",
       "<table border=\"1\" class=\"dataframe\">\n",
       "  <thead>\n",
       "    <tr style=\"text-align: right;\">\n",
       "      <th></th>\n",
       "      <th>Date</th>\n",
       "      <th>Price</th>\n",
       "      <th>Open</th>\n",
       "      <th>High</th>\n",
       "      <th>Low</th>\n",
       "      <th>Vol.</th>\n",
       "      <th>Change %</th>\n",
       "    </tr>\n",
       "  </thead>\n",
       "  <tbody>\n",
       "    <tr>\n",
       "      <th>0</th>\n",
       "      <td>2010-01-01</td>\n",
       "      <td>1,097.35</td>\n",
       "      <td>1,097.25</td>\n",
       "      <td>1,097.90</td>\n",
       "      <td>1,097.05</td>\n",
       "      <td>NaN</td>\n",
       "      <td>0.10%</td>\n",
       "    </tr>\n",
       "    <tr>\n",
       "      <th>1</th>\n",
       "      <td>2010-01-04</td>\n",
       "      <td>1,120.40</td>\n",
       "      <td>1,096.25</td>\n",
       "      <td>1,123.80</td>\n",
       "      <td>1,093.45</td>\n",
       "      <td>NaN</td>\n",
       "      <td>2.10%</td>\n",
       "    </tr>\n",
       "    <tr>\n",
       "      <th>2</th>\n",
       "      <td>2010-01-05</td>\n",
       "      <td>1,119.05</td>\n",
       "      <td>1,121.30</td>\n",
       "      <td>1,128.10</td>\n",
       "      <td>1,115.25</td>\n",
       "      <td>NaN</td>\n",
       "      <td>-0.12%</td>\n",
       "    </tr>\n",
       "    <tr>\n",
       "      <th>3</th>\n",
       "      <td>2010-01-06</td>\n",
       "      <td>1,138.90</td>\n",
       "      <td>1,118.40</td>\n",
       "      <td>1,140.60</td>\n",
       "      <td>1,116.00</td>\n",
       "      <td>NaN</td>\n",
       "      <td>1.77%</td>\n",
       "    </tr>\n",
       "    <tr>\n",
       "      <th>4</th>\n",
       "      <td>2010-01-07</td>\n",
       "      <td>1,132.30</td>\n",
       "      <td>1,138.20</td>\n",
       "      <td>1,139.15</td>\n",
       "      <td>1,128.60</td>\n",
       "      <td>NaN</td>\n",
       "      <td>-0.58%</td>\n",
       "    </tr>\n",
       "  </tbody>\n",
       "</table>\n",
       "</div>"
      ],
      "text/plain": [
       "        Date     Price      Open      High       Low  Vol. Change %\n",
       "0 2010-01-01  1,097.35  1,097.25  1,097.90  1,097.05   NaN    0.10%\n",
       "1 2010-01-04  1,120.40  1,096.25  1,123.80  1,093.45   NaN    2.10%\n",
       "2 2010-01-05  1,119.05  1,121.30  1,128.10  1,115.25   NaN   -0.12%\n",
       "3 2010-01-06  1,138.90  1,118.40  1,140.60  1,116.00   NaN    1.77%\n",
       "4 2010-01-07  1,132.30  1,138.20  1,139.15  1,128.60   NaN   -0.58%"
      ]
     },
     "execution_count": 4,
     "metadata": {},
     "output_type": "execute_result"
    }
   ],
   "source": [
    "gold_usd.head()"
   ]
  },
  {
   "cell_type": "code",
   "execution_count": 5,
   "id": "cbb73a07-ae8e-40c9-9aa7-462b7434b3b6",
   "metadata": {},
   "outputs": [
    {
     "data": {
      "text/plain": [
       "Timestamp('2000-01-03 00:00:00')"
      ]
     },
     "execution_count": 5,
     "metadata": {},
     "output_type": "execute_result"
    }
   ],
   "source": [
    "gold_usd.Date.min()"
   ]
  },
  {
   "cell_type": "code",
   "execution_count": 6,
   "id": "71b27a13-79a5-4b14-a0cd-c1d58815310a",
   "metadata": {},
   "outputs": [
    {
     "data": {
      "text/plain": [
       "Timestamp('2023-09-07 00:00:00')"
      ]
     },
     "execution_count": 6,
     "metadata": {},
     "output_type": "execute_result"
    }
   ],
   "source": [
    "gold_usd.Date.max()"
   ]
  },
  {
   "cell_type": "code",
   "execution_count": 7,
   "id": "752bf372-20b8-4876-9e7f-e67cf007e75f",
   "metadata": {},
   "outputs": [],
   "source": [
    "gold_usd.index = gold_usd.Date"
   ]
  },
  {
   "cell_type": "code",
   "execution_count": 8,
   "id": "57c3ae6d-22c5-442a-a21c-031b2abd9b13",
   "metadata": {},
   "outputs": [
    {
     "data": {
      "text/html": [
       "<div>\n",
       "<style scoped>\n",
       "    .dataframe tbody tr th:only-of-type {\n",
       "        vertical-align: middle;\n",
       "    }\n",
       "\n",
       "    .dataframe tbody tr th {\n",
       "        vertical-align: top;\n",
       "    }\n",
       "\n",
       "    .dataframe thead th {\n",
       "        text-align: right;\n",
       "    }\n",
       "</style>\n",
       "<table border=\"1\" class=\"dataframe\">\n",
       "  <thead>\n",
       "    <tr style=\"text-align: right;\">\n",
       "      <th></th>\n",
       "      <th>Date</th>\n",
       "      <th>Price</th>\n",
       "      <th>Open</th>\n",
       "      <th>High</th>\n",
       "      <th>Low</th>\n",
       "      <th>Vol.</th>\n",
       "      <th>Change %</th>\n",
       "    </tr>\n",
       "    <tr>\n",
       "      <th>Date</th>\n",
       "      <th></th>\n",
       "      <th></th>\n",
       "      <th></th>\n",
       "      <th></th>\n",
       "      <th></th>\n",
       "      <th></th>\n",
       "      <th></th>\n",
       "    </tr>\n",
       "  </thead>\n",
       "  <tbody>\n",
       "    <tr>\n",
       "      <th>2010-01-01</th>\n",
       "      <td>2010-01-01</td>\n",
       "      <td>1,097.35</td>\n",
       "      <td>1,097.25</td>\n",
       "      <td>1,097.90</td>\n",
       "      <td>1,097.05</td>\n",
       "      <td>NaN</td>\n",
       "      <td>0.10%</td>\n",
       "    </tr>\n",
       "    <tr>\n",
       "      <th>2010-01-04</th>\n",
       "      <td>2010-01-04</td>\n",
       "      <td>1,120.40</td>\n",
       "      <td>1,096.25</td>\n",
       "      <td>1,123.80</td>\n",
       "      <td>1,093.45</td>\n",
       "      <td>NaN</td>\n",
       "      <td>2.10%</td>\n",
       "    </tr>\n",
       "    <tr>\n",
       "      <th>2010-01-05</th>\n",
       "      <td>2010-01-05</td>\n",
       "      <td>1,119.05</td>\n",
       "      <td>1,121.30</td>\n",
       "      <td>1,128.10</td>\n",
       "      <td>1,115.25</td>\n",
       "      <td>NaN</td>\n",
       "      <td>-0.12%</td>\n",
       "    </tr>\n",
       "    <tr>\n",
       "      <th>2010-01-06</th>\n",
       "      <td>2010-01-06</td>\n",
       "      <td>1,138.90</td>\n",
       "      <td>1,118.40</td>\n",
       "      <td>1,140.60</td>\n",
       "      <td>1,116.00</td>\n",
       "      <td>NaN</td>\n",
       "      <td>1.77%</td>\n",
       "    </tr>\n",
       "    <tr>\n",
       "      <th>2010-01-07</th>\n",
       "      <td>2010-01-07</td>\n",
       "      <td>1,132.30</td>\n",
       "      <td>1,138.20</td>\n",
       "      <td>1,139.15</td>\n",
       "      <td>1,128.60</td>\n",
       "      <td>NaN</td>\n",
       "      <td>-0.58%</td>\n",
       "    </tr>\n",
       "  </tbody>\n",
       "</table>\n",
       "</div>"
      ],
      "text/plain": [
       "                 Date     Price      Open      High       Low  Vol. Change %\n",
       "Date                                                                        \n",
       "2010-01-01 2010-01-01  1,097.35  1,097.25  1,097.90  1,097.05   NaN    0.10%\n",
       "2010-01-04 2010-01-04  1,120.40  1,096.25  1,123.80  1,093.45   NaN    2.10%\n",
       "2010-01-05 2010-01-05  1,119.05  1,121.30  1,128.10  1,115.25   NaN   -0.12%\n",
       "2010-01-06 2010-01-06  1,138.90  1,118.40  1,140.60  1,116.00   NaN    1.77%\n",
       "2010-01-07 2010-01-07  1,132.30  1,138.20  1,139.15  1,128.60   NaN   -0.58%"
      ]
     },
     "execution_count": 8,
     "metadata": {},
     "output_type": "execute_result"
    }
   ],
   "source": [
    "gold_usd.head()"
   ]
  },
  {
   "cell_type": "code",
   "execution_count": 9,
   "id": "77376919-2695-4e42-b5db-72825f0f3f83",
   "metadata": {},
   "outputs": [],
   "source": [
    "gold_usd.drop('Date', inplace=True, axis=1)"
   ]
  },
  {
   "cell_type": "code",
   "execution_count": 10,
   "id": "636a0ede-e852-4aca-b132-c7f709f0acae",
   "metadata": {},
   "outputs": [
    {
     "data": {
      "text/html": [
       "<div>\n",
       "<style scoped>\n",
       "    .dataframe tbody tr th:only-of-type {\n",
       "        vertical-align: middle;\n",
       "    }\n",
       "\n",
       "    .dataframe tbody tr th {\n",
       "        vertical-align: top;\n",
       "    }\n",
       "\n",
       "    .dataframe thead th {\n",
       "        text-align: right;\n",
       "    }\n",
       "</style>\n",
       "<table border=\"1\" class=\"dataframe\">\n",
       "  <thead>\n",
       "    <tr style=\"text-align: right;\">\n",
       "      <th></th>\n",
       "      <th>Price</th>\n",
       "      <th>Open</th>\n",
       "      <th>High</th>\n",
       "      <th>Low</th>\n",
       "      <th>Vol.</th>\n",
       "      <th>Change %</th>\n",
       "    </tr>\n",
       "    <tr>\n",
       "      <th>Date</th>\n",
       "      <th></th>\n",
       "      <th></th>\n",
       "      <th></th>\n",
       "      <th></th>\n",
       "      <th></th>\n",
       "      <th></th>\n",
       "    </tr>\n",
       "  </thead>\n",
       "  <tbody>\n",
       "    <tr>\n",
       "      <th>2010-01-01</th>\n",
       "      <td>1,097.35</td>\n",
       "      <td>1,097.25</td>\n",
       "      <td>1,097.90</td>\n",
       "      <td>1,097.05</td>\n",
       "      <td>NaN</td>\n",
       "      <td>0.10%</td>\n",
       "    </tr>\n",
       "    <tr>\n",
       "      <th>2010-01-04</th>\n",
       "      <td>1,120.40</td>\n",
       "      <td>1,096.25</td>\n",
       "      <td>1,123.80</td>\n",
       "      <td>1,093.45</td>\n",
       "      <td>NaN</td>\n",
       "      <td>2.10%</td>\n",
       "    </tr>\n",
       "    <tr>\n",
       "      <th>2010-01-05</th>\n",
       "      <td>1,119.05</td>\n",
       "      <td>1,121.30</td>\n",
       "      <td>1,128.10</td>\n",
       "      <td>1,115.25</td>\n",
       "      <td>NaN</td>\n",
       "      <td>-0.12%</td>\n",
       "    </tr>\n",
       "    <tr>\n",
       "      <th>2010-01-06</th>\n",
       "      <td>1,138.90</td>\n",
       "      <td>1,118.40</td>\n",
       "      <td>1,140.60</td>\n",
       "      <td>1,116.00</td>\n",
       "      <td>NaN</td>\n",
       "      <td>1.77%</td>\n",
       "    </tr>\n",
       "    <tr>\n",
       "      <th>2010-01-07</th>\n",
       "      <td>1,132.30</td>\n",
       "      <td>1,138.20</td>\n",
       "      <td>1,139.15</td>\n",
       "      <td>1,128.60</td>\n",
       "      <td>NaN</td>\n",
       "      <td>-0.58%</td>\n",
       "    </tr>\n",
       "  </tbody>\n",
       "</table>\n",
       "</div>"
      ],
      "text/plain": [
       "               Price      Open      High       Low  Vol. Change %\n",
       "Date                                                             \n",
       "2010-01-01  1,097.35  1,097.25  1,097.90  1,097.05   NaN    0.10%\n",
       "2010-01-04  1,120.40  1,096.25  1,123.80  1,093.45   NaN    2.10%\n",
       "2010-01-05  1,119.05  1,121.30  1,128.10  1,115.25   NaN   -0.12%\n",
       "2010-01-06  1,138.90  1,118.40  1,140.60  1,116.00   NaN    1.77%\n",
       "2010-01-07  1,132.30  1,138.20  1,139.15  1,128.60   NaN   -0.58%"
      ]
     },
     "execution_count": 10,
     "metadata": {},
     "output_type": "execute_result"
    }
   ],
   "source": [
    "gold_usd.head()"
   ]
  },
  {
   "cell_type": "code",
   "execution_count": 11,
   "id": "515109e0-3e5c-4711-877e-c2185b4c84d5",
   "metadata": {},
   "outputs": [
    {
     "data": {
      "text/html": [
       "<div>\n",
       "<style scoped>\n",
       "    .dataframe tbody tr th:only-of-type {\n",
       "        vertical-align: middle;\n",
       "    }\n",
       "\n",
       "    .dataframe tbody tr th {\n",
       "        vertical-align: top;\n",
       "    }\n",
       "\n",
       "    .dataframe thead th {\n",
       "        text-align: right;\n",
       "    }\n",
       "</style>\n",
       "<table border=\"1\" class=\"dataframe\">\n",
       "  <thead>\n",
       "    <tr style=\"text-align: right;\">\n",
       "      <th></th>\n",
       "      <th>Vol.</th>\n",
       "    </tr>\n",
       "  </thead>\n",
       "  <tbody>\n",
       "    <tr>\n",
       "      <th>count</th>\n",
       "      <td>0.0</td>\n",
       "    </tr>\n",
       "    <tr>\n",
       "      <th>mean</th>\n",
       "      <td>NaN</td>\n",
       "    </tr>\n",
       "    <tr>\n",
       "      <th>std</th>\n",
       "      <td>NaN</td>\n",
       "    </tr>\n",
       "    <tr>\n",
       "      <th>min</th>\n",
       "      <td>NaN</td>\n",
       "    </tr>\n",
       "    <tr>\n",
       "      <th>25%</th>\n",
       "      <td>NaN</td>\n",
       "    </tr>\n",
       "    <tr>\n",
       "      <th>50%</th>\n",
       "      <td>NaN</td>\n",
       "    </tr>\n",
       "    <tr>\n",
       "      <th>75%</th>\n",
       "      <td>NaN</td>\n",
       "    </tr>\n",
       "    <tr>\n",
       "      <th>max</th>\n",
       "      <td>NaN</td>\n",
       "    </tr>\n",
       "  </tbody>\n",
       "</table>\n",
       "</div>"
      ],
      "text/plain": [
       "       Vol.\n",
       "count   0.0\n",
       "mean    NaN\n",
       "std     NaN\n",
       "min     NaN\n",
       "25%     NaN\n",
       "50%     NaN\n",
       "75%     NaN\n",
       "max     NaN"
      ]
     },
     "execution_count": 11,
     "metadata": {},
     "output_type": "execute_result"
    }
   ],
   "source": [
    "gold_usd.describe()"
   ]
  },
  {
   "cell_type": "code",
   "execution_count": 12,
   "id": "6d3535bc-ba4b-4727-9700-621acf509973",
   "metadata": {},
   "outputs": [
    {
     "name": "stdout",
     "output_type": "stream",
     "text": [
      "<class 'pandas.core.frame.DataFrame'>\n",
      "DatetimeIndex: 6168 entries, 2010-01-01 to 2000-01-03\n",
      "Data columns (total 6 columns):\n",
      " #   Column    Non-Null Count  Dtype  \n",
      "---  ------    --------------  -----  \n",
      " 0   Price     6168 non-null   object \n",
      " 1   Open      6168 non-null   object \n",
      " 2   High      6168 non-null   object \n",
      " 3   Low       6168 non-null   object \n",
      " 4   Vol.      0 non-null      float64\n",
      " 5   Change %  6168 non-null   object \n",
      "dtypes: float64(1), object(5)\n",
      "memory usage: 337.3+ KB\n"
     ]
    }
   ],
   "source": [
    "gold_usd.info()"
   ]
  },
  {
   "cell_type": "code",
   "execution_count": 13,
   "id": "7df517d4-5abf-4e6f-9b5b-f2c7a89a4b23",
   "metadata": {},
   "outputs": [
    {
     "data": {
      "text/plain": [
       "str"
      ]
     },
     "execution_count": 13,
     "metadata": {},
     "output_type": "execute_result"
    }
   ],
   "source": [
    "type(gold_usd.Price[0])"
   ]
  },
  {
   "cell_type": "code",
   "execution_count": 14,
   "id": "38951261-01c6-4b0b-8cd9-c3fb26e45a21",
   "metadata": {},
   "outputs": [],
   "source": [
    "for col in ['Price', 'Open', 'High', 'Low']:\n",
    "    gold_usd[col] = gold_usd[col].map(lambda row : float(row.replace(',', '')))"
   ]
  },
  {
   "cell_type": "code",
   "execution_count": 15,
   "id": "3d93a9da-a2c1-47b6-87d5-6faba1734484",
   "metadata": {},
   "outputs": [
    {
     "name": "stdout",
     "output_type": "stream",
     "text": [
      "<class 'pandas.core.frame.DataFrame'>\n",
      "DatetimeIndex: 6168 entries, 2010-01-01 to 2000-01-03\n",
      "Data columns (total 6 columns):\n",
      " #   Column    Non-Null Count  Dtype  \n",
      "---  ------    --------------  -----  \n",
      " 0   Price     6168 non-null   float64\n",
      " 1   Open      6168 non-null   float64\n",
      " 2   High      6168 non-null   float64\n",
      " 3   Low       6168 non-null   float64\n",
      " 4   Vol.      0 non-null      float64\n",
      " 5   Change %  6168 non-null   object \n",
      "dtypes: float64(5), object(1)\n",
      "memory usage: 337.3+ KB\n"
     ]
    }
   ],
   "source": [
    "gold_usd.info()"
   ]
  },
  {
   "cell_type": "code",
   "execution_count": 16,
   "id": "46cc4b6f-4f34-44dc-aebb-cd1fc0e3946a",
   "metadata": {},
   "outputs": [],
   "source": [
    "gold_usd['Change %'] = gold_usd['Change %'].map(lambda x: float(x.replace('%', '')))"
   ]
  },
  {
   "cell_type": "code",
   "execution_count": 17,
   "id": "510e432e-6bcd-429b-8894-02e00faa342e",
   "metadata": {},
   "outputs": [],
   "source": [
    "gold_usd.drop('Vol.', inplace=True, axis=1)"
   ]
  },
  {
   "cell_type": "code",
   "execution_count": 18,
   "id": "a8a5d3ec-d825-473c-b957-345b34e05d3f",
   "metadata": {},
   "outputs": [
    {
     "data": {
      "text/html": [
       "<div>\n",
       "<style scoped>\n",
       "    .dataframe tbody tr th:only-of-type {\n",
       "        vertical-align: middle;\n",
       "    }\n",
       "\n",
       "    .dataframe tbody tr th {\n",
       "        vertical-align: top;\n",
       "    }\n",
       "\n",
       "    .dataframe thead th {\n",
       "        text-align: right;\n",
       "    }\n",
       "</style>\n",
       "<table border=\"1\" class=\"dataframe\">\n",
       "  <thead>\n",
       "    <tr style=\"text-align: right;\">\n",
       "      <th></th>\n",
       "      <th>Price</th>\n",
       "      <th>Open</th>\n",
       "      <th>High</th>\n",
       "      <th>Low</th>\n",
       "      <th>Change %</th>\n",
       "    </tr>\n",
       "    <tr>\n",
       "      <th>Date</th>\n",
       "      <th></th>\n",
       "      <th></th>\n",
       "      <th></th>\n",
       "      <th></th>\n",
       "      <th></th>\n",
       "    </tr>\n",
       "  </thead>\n",
       "  <tbody>\n",
       "    <tr>\n",
       "      <th>2010-01-01</th>\n",
       "      <td>1097.35</td>\n",
       "      <td>1097.25</td>\n",
       "      <td>1097.90</td>\n",
       "      <td>1097.05</td>\n",
       "      <td>0.10</td>\n",
       "    </tr>\n",
       "    <tr>\n",
       "      <th>2010-01-04</th>\n",
       "      <td>1120.40</td>\n",
       "      <td>1096.25</td>\n",
       "      <td>1123.80</td>\n",
       "      <td>1093.45</td>\n",
       "      <td>2.10</td>\n",
       "    </tr>\n",
       "    <tr>\n",
       "      <th>2010-01-05</th>\n",
       "      <td>1119.05</td>\n",
       "      <td>1121.30</td>\n",
       "      <td>1128.10</td>\n",
       "      <td>1115.25</td>\n",
       "      <td>-0.12</td>\n",
       "    </tr>\n",
       "    <tr>\n",
       "      <th>2010-01-06</th>\n",
       "      <td>1138.90</td>\n",
       "      <td>1118.40</td>\n",
       "      <td>1140.60</td>\n",
       "      <td>1116.00</td>\n",
       "      <td>1.77</td>\n",
       "    </tr>\n",
       "    <tr>\n",
       "      <th>2010-01-07</th>\n",
       "      <td>1132.30</td>\n",
       "      <td>1138.20</td>\n",
       "      <td>1139.15</td>\n",
       "      <td>1128.60</td>\n",
       "      <td>-0.58</td>\n",
       "    </tr>\n",
       "  </tbody>\n",
       "</table>\n",
       "</div>"
      ],
      "text/plain": [
       "              Price     Open     High      Low  Change %\n",
       "Date                                                    \n",
       "2010-01-01  1097.35  1097.25  1097.90  1097.05      0.10\n",
       "2010-01-04  1120.40  1096.25  1123.80  1093.45      2.10\n",
       "2010-01-05  1119.05  1121.30  1128.10  1115.25     -0.12\n",
       "2010-01-06  1138.90  1118.40  1140.60  1116.00      1.77\n",
       "2010-01-07  1132.30  1138.20  1139.15  1128.60     -0.58"
      ]
     },
     "execution_count": 18,
     "metadata": {},
     "output_type": "execute_result"
    }
   ],
   "source": [
    "gold_usd.head()"
   ]
  },
  {
   "cell_type": "code",
   "execution_count": 19,
   "id": "1e0d746f-b6e2-4685-b85c-ed5bf2089c51",
   "metadata": {},
   "outputs": [
    {
     "data": {
      "text/plain": [
       "False"
      ]
     },
     "execution_count": 19,
     "metadata": {},
     "output_type": "execute_result"
    }
   ],
   "source": [
    "gold_usd.index.is_monotonic_decreasing"
   ]
  },
  {
   "cell_type": "code",
   "execution_count": 20,
   "id": "3483e16d-2723-4b53-b993-1da8787cd7c2",
   "metadata": {},
   "outputs": [
    {
     "data": {
      "text/plain": [
       "False"
      ]
     },
     "execution_count": 20,
     "metadata": {},
     "output_type": "execute_result"
    }
   ],
   "source": [
    "gold_usd.index.is_monotonic_increasing"
   ]
  },
  {
   "cell_type": "code",
   "execution_count": 21,
   "id": "8149b031-6eef-40e5-8d4d-52e5933cb260",
   "metadata": {},
   "outputs": [],
   "source": [
    "gold_usd = gold_usd.sort_index()"
   ]
  },
  {
   "cell_type": "code",
   "execution_count": 22,
   "id": "9b1029e4-feb9-4bfd-9b7f-44f2a641746c",
   "metadata": {},
   "outputs": [
    {
     "data": {
      "text/plain": [
       "True"
      ]
     },
     "execution_count": 22,
     "metadata": {},
     "output_type": "execute_result"
    }
   ],
   "source": [
    "gold_usd.index.is_monotonic_increasing"
   ]
  },
  {
   "cell_type": "code",
   "execution_count": 23,
   "id": "f28623c5-c7ad-4bcb-9ddd-aa03582b3ed7",
   "metadata": {},
   "outputs": [],
   "source": [
    "def display_plot(data, title):\n",
    "    data.plot(\n",
    "              figsize=(20,7),\n",
    "              legend = True,\n",
    "              alpha = 0.7,\n",
    "             )\n",
    "    plt.title(f'{title}', fontsize=\"xx-large\")\n",
    "    plt.legend(loc='upper center', bbox_to_anchor=(0.5, -0.2), ncol=4, fontsize=\"xx-large\")\n",
    "    plt.show()"
   ]
  },
  {
   "cell_type": "code",
   "execution_count": 24,
   "id": "c5b7ecd7-9897-4a7a-b22b-9fb614b5ef58",
   "metadata": {},
   "outputs": [
    {
     "data": {
      "image/png": "[encoded data removed]",
      "text/plain": [
       "<Figure size 2000x700 with 1 Axes>"
      ]
     },
     "metadata": {},
     "output_type": "display_data"
    }
   ],
   "source": [
    "gold_price = gold_usd.Price\n",
    "display_plot(gold_price, 'Price Over Time')"
   ]
  },
  {
   "cell_type": "code",
   "execution_count": 25,
   "id": "3ba4bb16-3cc5-455c-868a-6b06a6349f32",
   "metadata": {},
   "outputs": [
    {
     "data": {
      "image/png": "[encoded data removed]",
      "text/plain": [
       "<Figure size 2000x700 with 1 Axes>"
      ]
     },
     "metadata": {},
     "output_type": "display_data"
    }
   ],
   "source": [
    "display_plot(gold_usd, 'title')"
   ]
  },
  {
   "cell_type": "code",
   "execution_count": 30,
   "id": "7c831857-b4f2-4951-8473-d9d255d7bc80",
   "metadata": {},
   "outputs": [
    {
     "data": {
      "text/html": [
       "<div>\n",
       "<style scoped>\n",
       "    .dataframe tbody tr th:only-of-type {\n",
       "        vertical-align: middle;\n",
       "    }\n",
       "\n",
       "    .dataframe tbody tr th {\n",
       "        vertical-align: top;\n",
       "    }\n",
       "\n",
       "    .dataframe thead th {\n",
       "        text-align: right;\n",
       "    }\n",
       "</style>\n",
       "<table border=\"1\" class=\"dataframe\">\n",
       "  <thead>\n",
       "    <tr style=\"text-align: right;\">\n",
       "      <th></th>\n",
       "      <th>Price</th>\n",
       "      <th>Open</th>\n",
       "      <th>High</th>\n",
       "      <th>Low</th>\n",
       "      <th>Change %</th>\n",
       "      <th>DayOfWeek</th>\n",
       "    </tr>\n",
       "    <tr>\n",
       "      <th>Date</th>\n",
       "      <th></th>\n",
       "      <th></th>\n",
       "      <th></th>\n",
       "      <th></th>\n",
       "      <th></th>\n",
       "      <th></th>\n",
       "    </tr>\n",
       "  </thead>\n",
       "  <tbody>\n",
       "    <tr>\n",
       "      <th>2000-01-03</th>\n",
       "      <td>289.00</td>\n",
       "      <td>288.50</td>\n",
       "      <td>289.00</td>\n",
       "      <td>289.00</td>\n",
       "      <td>0.26</td>\n",
       "      <td>Monday</td>\n",
       "    </tr>\n",
       "    <tr>\n",
       "      <th>2000-01-04</th>\n",
       "      <td>282.45</td>\n",
       "      <td>288.75</td>\n",
       "      <td>282.45</td>\n",
       "      <td>282.45</td>\n",
       "      <td>-2.27</td>\n",
       "      <td>Tuesday</td>\n",
       "    </tr>\n",
       "    <tr>\n",
       "      <th>2000-01-05</th>\n",
       "      <td>281.00</td>\n",
       "      <td>281.50</td>\n",
       "      <td>281.00</td>\n",
       "      <td>281.00</td>\n",
       "      <td>-0.51</td>\n",
       "      <td>Wednesday</td>\n",
       "    </tr>\n",
       "    <tr>\n",
       "      <th>2000-01-06</th>\n",
       "      <td>281.23</td>\n",
       "      <td>280.12</td>\n",
       "      <td>281.23</td>\n",
       "      <td>281.23</td>\n",
       "      <td>0.08</td>\n",
       "      <td>Thursday</td>\n",
       "    </tr>\n",
       "    <tr>\n",
       "      <th>2000-01-07</th>\n",
       "      <td>281.75</td>\n",
       "      <td>281.15</td>\n",
       "      <td>281.75</td>\n",
       "      <td>281.75</td>\n",
       "      <td>0.18</td>\n",
       "      <td>Friday</td>\n",
       "    </tr>\n",
       "    <tr>\n",
       "      <th>2000-01-10</th>\n",
       "      <td>281.48</td>\n",
       "      <td>281.88</td>\n",
       "      <td>281.48</td>\n",
       "      <td>281.48</td>\n",
       "      <td>-0.10</td>\n",
       "      <td>Monday</td>\n",
       "    </tr>\n",
       "    <tr>\n",
       "      <th>2000-01-11</th>\n",
       "      <td>283.38</td>\n",
       "      <td>281.48</td>\n",
       "      <td>283.38</td>\n",
       "      <td>283.38</td>\n",
       "      <td>0.68</td>\n",
       "      <td>Tuesday</td>\n",
       "    </tr>\n",
       "    <tr>\n",
       "      <th>2000-01-12</th>\n",
       "      <td>282.48</td>\n",
       "      <td>283.27</td>\n",
       "      <td>282.48</td>\n",
       "      <td>282.48</td>\n",
       "      <td>-0.32</td>\n",
       "      <td>Wednesday</td>\n",
       "    </tr>\n",
       "    <tr>\n",
       "      <th>2000-01-13</th>\n",
       "      <td>284.25</td>\n",
       "      <td>282.60</td>\n",
       "      <td>284.25</td>\n",
       "      <td>284.25</td>\n",
       "      <td>0.63</td>\n",
       "      <td>Thursday</td>\n",
       "    </tr>\n",
       "    <tr>\n",
       "      <th>2000-01-14</th>\n",
       "      <td>284.00</td>\n",
       "      <td>284.20</td>\n",
       "      <td>284.00</td>\n",
       "      <td>284.00</td>\n",
       "      <td>-0.09</td>\n",
       "      <td>Friday</td>\n",
       "    </tr>\n",
       "  </tbody>\n",
       "</table>\n",
       "</div>"
      ],
      "text/plain": [
       "             Price    Open    High     Low  Change %  DayOfWeek\n",
       "Date                                                           \n",
       "2000-01-03  289.00  288.50  289.00  289.00      0.26     Monday\n",
       "2000-01-04  282.45  288.75  282.45  282.45     -2.27    Tuesday\n",
       "2000-01-05  281.00  281.50  281.00  281.00     -0.51  Wednesday\n",
       "2000-01-06  281.23  280.12  281.23  281.23      0.08   Thursday\n",
       "2000-01-07  281.75  281.15  281.75  281.75      0.18     Friday\n",
       "2000-01-10  281.48  281.88  281.48  281.48     -0.10     Monday\n",
       "2000-01-11  283.38  281.48  283.38  283.38      0.68    Tuesday\n",
       "2000-01-12  282.48  283.27  282.48  282.48     -0.32  Wednesday\n",
       "2000-01-13  284.25  282.60  284.25  284.25      0.63   Thursday\n",
       "2000-01-14  284.00  284.20  284.00  284.00     -0.09     Friday"
      ]
     },
     "execution_count": 30,
     "metadata": {},
     "output_type": "execute_result"
    }
   ],
   "source": [
    "gold_usd['DayOfWeek'] = gold_usd.index.day_name()\n",
    "gold_usd.head(10)"
   ]
  },
  {
   "cell_type": "code",
   "execution_count": 27,
   "id": "696fd7c8-aa8e-4416-a18a-f62d30acc2e6",
   "metadata": {},
   "outputs": [
    {
     "ename": "ValueError",
     "evalue": "Inferred frequency None from passed values does not conform to passed frequency D",
     "output_type": "error",
     "traceback": [
      "\u001b[0;31m---------------------------------------------------------------------------\u001b[0m",
      "\u001b[0;31mValueError\u001b[0m                                Traceback (most recent call last)",
      "File \u001b[0;32m~/anaconda3/lib/python3.10/site-packages/pandas/core/arrays/datetimelike.py:1008\u001b[0m, in \u001b[0;36mDatetimeLikeArrayMixin._validate_frequency\u001b[0;34m(cls, index, freq, **kwargs)\u001b[0m\n\u001b[1;32m   1007\u001b[0m     \u001b[38;5;28;01mif\u001b[39;00m \u001b[38;5;129;01mnot\u001b[39;00m np\u001b[38;5;241m.\u001b[39marray_equal(index\u001b[38;5;241m.\u001b[39masi8, on_freq\u001b[38;5;241m.\u001b[39masi8):\n\u001b[0;32m-> 1008\u001b[0m         \u001b[38;5;28;01mraise\u001b[39;00m \u001b[38;5;167;01mValueError\u001b[39;00m\n\u001b[1;32m   1009\u001b[0m \u001b[38;5;28;01mexcept\u001b[39;00m \u001b[38;5;167;01mValueError\u001b[39;00m \u001b[38;5;28;01mas\u001b[39;00m e:\n",
      "\u001b[0;31mValueError\u001b[0m: ",
      "\nThe above exception was the direct cause of the following exception:\n",
      "\u001b[0;31mValueError\u001b[0m                                Traceback (most recent call last)",
      "Cell \u001b[0;32mIn[27], line 2\u001b[0m\n\u001b[1;32m      1\u001b[0m \u001b[38;5;28;01mfrom\u001b[39;00m \u001b[38;5;21;01mstatsmodels\u001b[39;00m\u001b[38;5;21;01m.\u001b[39;00m\u001b[38;5;21;01mtsa\u001b[39;00m\u001b[38;5;21;01m.\u001b[39;00m\u001b[38;5;21;01mseasonal\u001b[39;00m \u001b[38;5;28;01mimport\u001b[39;00m seasonal_decompose\n\u001b[0;32m----> 2\u001b[0m gold_usd\u001b[38;5;241m.\u001b[39mindex\u001b[38;5;241m.\u001b[39mfreq \u001b[38;5;241m=\u001b[39m \u001b[38;5;124m'\u001b[39m\u001b[38;5;124md\u001b[39m\u001b[38;5;124m'\u001b[39m\n",
      "File \u001b[0;32m~/anaconda3/lib/python3.10/site-packages/pandas/core/indexes/extension.py:81\u001b[0m, in \u001b[0;36m_inherit_from_data.<locals>.fset\u001b[0;34m(self, value)\u001b[0m\n\u001b[1;32m     80\u001b[0m \u001b[38;5;28;01mdef\u001b[39;00m \u001b[38;5;21mfset\u001b[39m(\u001b[38;5;28mself\u001b[39m, value):\n\u001b[0;32m---> 81\u001b[0m     \u001b[38;5;28;43msetattr\u001b[39;49m\u001b[43m(\u001b[49m\u001b[38;5;28;43mself\u001b[39;49m\u001b[38;5;241;43m.\u001b[39;49m\u001b[43m_data\u001b[49m\u001b[43m,\u001b[49m\u001b[43m \u001b[49m\u001b[43mname\u001b[49m\u001b[43m,\u001b[49m\u001b[43m \u001b[49m\u001b[43mvalue\u001b[49m\u001b[43m)\u001b[49m\n",
      "File \u001b[0;32m~/anaconda3/lib/python3.10/site-packages/pandas/core/arrays/datetimelike.py:937\u001b[0m, in \u001b[0;36mDatetimeLikeArrayMixin.freq\u001b[0;34m(self, value)\u001b[0m\n\u001b[1;32m    935\u001b[0m \u001b[38;5;28;01mif\u001b[39;00m value \u001b[38;5;129;01mis\u001b[39;00m \u001b[38;5;129;01mnot\u001b[39;00m \u001b[38;5;28;01mNone\u001b[39;00m:\n\u001b[1;32m    936\u001b[0m     value \u001b[38;5;241m=\u001b[39m to_offset(value)\n\u001b[0;32m--> 937\u001b[0m     \u001b[38;5;28;43mself\u001b[39;49m\u001b[38;5;241;43m.\u001b[39;49m\u001b[43m_validate_frequency\u001b[49m\u001b[43m(\u001b[49m\u001b[38;5;28;43mself\u001b[39;49m\u001b[43m,\u001b[49m\u001b[43m \u001b[49m\u001b[43mvalue\u001b[49m\u001b[43m)\u001b[49m\n\u001b[1;32m    939\u001b[0m     \u001b[38;5;28;01mif\u001b[39;00m \u001b[38;5;28mself\u001b[39m\u001b[38;5;241m.\u001b[39mndim \u001b[38;5;241m>\u001b[39m \u001b[38;5;241m1\u001b[39m:\n\u001b[1;32m    940\u001b[0m         \u001b[38;5;28;01mraise\u001b[39;00m \u001b[38;5;167;01mValueError\u001b[39;00m(\u001b[38;5;124m\"\u001b[39m\u001b[38;5;124mCannot set freq with ndim > 1\u001b[39m\u001b[38;5;124m\"\u001b[39m)\n",
      "File \u001b[0;32m~/anaconda3/lib/python3.10/site-packages/pandas/core/arrays/datetimelike.py:1019\u001b[0m, in \u001b[0;36mDatetimeLikeArrayMixin._validate_frequency\u001b[0;34m(cls, index, freq, **kwargs)\u001b[0m\n\u001b[1;32m   1013\u001b[0m     \u001b[38;5;28;01mraise\u001b[39;00m e\n\u001b[1;32m   1014\u001b[0m \u001b[38;5;66;03m# GH#11587 the main way this is reached is if the `np.array_equal`\u001b[39;00m\n\u001b[1;32m   1015\u001b[0m \u001b[38;5;66;03m#  check above is False.  This can also be reached if index[0]\u001b[39;00m\n\u001b[1;32m   1016\u001b[0m \u001b[38;5;66;03m#  is `NaT`, in which case the call to `cls._generate_range` will\u001b[39;00m\n\u001b[1;32m   1017\u001b[0m \u001b[38;5;66;03m#  raise a ValueError, which we re-raise with a more targeted\u001b[39;00m\n\u001b[1;32m   1018\u001b[0m \u001b[38;5;66;03m#  message.\u001b[39;00m\n\u001b[0;32m-> 1019\u001b[0m \u001b[38;5;28;01mraise\u001b[39;00m \u001b[38;5;167;01mValueError\u001b[39;00m(\n\u001b[1;32m   1020\u001b[0m     \u001b[38;5;124mf\u001b[39m\u001b[38;5;124m\"\u001b[39m\u001b[38;5;124mInferred frequency \u001b[39m\u001b[38;5;132;01m{\u001b[39;00minferred\u001b[38;5;132;01m}\u001b[39;00m\u001b[38;5;124m from passed values \u001b[39m\u001b[38;5;124m\"\u001b[39m\n\u001b[1;32m   1021\u001b[0m     \u001b[38;5;124mf\u001b[39m\u001b[38;5;124m\"\u001b[39m\u001b[38;5;124mdoes not conform to passed frequency \u001b[39m\u001b[38;5;132;01m{\u001b[39;00mfreq\u001b[38;5;241m.\u001b[39mfreqstr\u001b[38;5;132;01m}\u001b[39;00m\u001b[38;5;124m\"\u001b[39m\n\u001b[1;32m   1022\u001b[0m ) \u001b[38;5;28;01mfrom\u001b[39;00m \u001b[38;5;21;01me\u001b[39;00m\n",
      "\u001b[0;31mValueError\u001b[0m: Inferred frequency None from passed values does not conform to passed frequency D"
     ]
    }
   ],
   "source": [
    "from statsmodels.tsa.seasonal import seasonal_decompose\n",
    "gold_usd.index.freq = 'd' "
   ]
  },
  {
   "cell_type": "code",
   "execution_count": null,
   "id": "a0417813-7569-417e-b391-38f1695767e7",
   "metadata": {},
   "outputs": [],
   "source": [
    "decomposed = seasonal_decompose(gold_usd)"
   ]
  },
  {
   "cell_type": "code",
   "execution_count": null,
   "id": "019e344b-88cf-4bb0-a684-1e0cc6cef3bd",
   "metadata": {},
   "outputs": [],
   "source": [
    "error"
   ]
  },
  {
   "cell_type": "code",
   "execution_count": null,
   "id": "ab0d630f-e626-45a2-b290-217828eeb39e",
   "metadata": {},
   "outputs": [],
   "source": [
    "gold_usd_corr = gold_usd.corr()"
   ]
  },
  {
   "cell_type": "code",
   "execution_count": null,
   "id": "c1b32943-4569-4883-b64e-4e8ccd6dbe1a",
   "metadata": {},
   "outputs": [],
   "source": [
    "print(gold_usd_corr)"
   ]
  },
  {
   "cell_type": "code",
   "execution_count": null,
   "id": "5a914ff0-865c-41ce-b963-aa010705c033",
   "metadata": {},
   "outputs": [],
   "source": [
    "fig, ax = plt.subplots(figsize=(8, 6))\n",
    "\n",
    "heatmap = ax.imshow(gold_usd_corr, cmap='coolwarm', interpolation='nearest')\n",
    "\n",
    "cbar = plt.colorbar(heatmap)\n",
    "\n",
    "ax.set_xticks(range(len(gold_usd_corr)))\n",
    "ax.set_yticks(range(len(gold_usd_corr)))\n",
    "ax.set_xticklabels(gold_usd_corr.columns, rotation=90)\n",
    "ax.set_yticklabels(gold_usd_corr.columns)\n",
    "\n",
    "ax.set_title('Gold-USD Correlation Heatmap')\n",
    "\n",
    "plt.tight_layout()\n",
    "plt.show()"
   ]
  },
  {
   "cell_type": "code",
   "execution_count": null,
   "id": "ea987b4a-271a-461d-a3fb-1867e66ee085",
   "metadata": {},
   "outputs": [],
   "source": []
  },
  {
   "cell_type": "code",
   "execution_count": null,
   "id": "a9f9c873-06c1-4bb5-a264-597b4c2e4d21",
   "metadata": {},
   "outputs": [],
   "source": [
    "from sklearn.preprocessing import StandardScaler\n",
    "standard_scaler = StandardScaler()\n",
    "gold_usd_scaled = standard_scaler.fit_transform(gold_usd)"
   ]
  },
  {
   "cell_type": "code",
   "execution_count": null,
   "id": "a237c43d-8855-4f31-8dd0-1aa30f148584",
   "metadata": {},
   "outputs": [],
   "source": [
    "gold_usd_scaled = pd.DataFrame(gold_usd_scaled, index=gold_usd.index, columns=gold_usd.columns)"
   ]
  },
  {
   "cell_type": "code",
   "execution_count": null,
   "id": "cb46d387-7055-4754-b3b7-3a2e53158988",
   "metadata": {},
   "outputs": [],
   "source": [
    "gold_usd_scaled.head()"
   ]
  },
  {
   "cell_type": "code",
   "execution_count": null,
   "id": "59365bac-eb3b-4055-bd33-e07094741ca0",
   "metadata": {},
   "outputs": [],
   "source": [
    "from sklearn.decomposition import PCA"
   ]
  },
  {
   "cell_type": "code",
   "execution_count": null,
   "id": "bfdbd823-504f-402a-ac5d-c3e0d9575dfd",
   "metadata": {},
   "outputs": [],
   "source": [
    "pca = PCA(0.99, random_state=42)\n",
    "pca_components = pca.fit_transform(gold_usd_scaled)"
   ]
  },
  {
   "cell_type": "code",
   "execution_count": null,
   "id": "50dca25a-e23f-486c-ba64-e4040357038b",
   "metadata": {},
   "outputs": [],
   "source": [
    "sum(pca.explained_variance_ratio_)"
   ]
  },
  {
   "cell_type": "code",
   "execution_count": null,
   "id": "ea238905-069e-48e7-8d9a-ae41d1983ac2",
   "metadata": {},
   "outputs": [],
   "source": [
    "pca.n_components_"
   ]
  },
  {
   "cell_type": "code",
   "execution_count": null,
   "id": "e32b664c-21ab-493c-9289-ed0be917191d",
   "metadata": {},
   "outputs": [],
   "source": [
    "pca_components"
   ]
  },
  {
   "cell_type": "code",
   "execution_count": null,
   "id": "8b85f9c2-bdfc-4d47-9668-7bd1d037b6eb",
   "metadata": {},
   "outputs": [],
   "source": [
    "gold_usd_scaled"
   ]
  },
  {
   "cell_type": "code",
   "execution_count": null,
   "id": "1f0d80d3-6c4d-47a3-825d-382f9575ac32",
   "metadata": {},
   "outputs": [],
   "source": [
    "gold_df = pd.DataFrame(pca_components, index=gold_usd.index, columns=['PCA1', 'PCA2'])\n",
    "gold_df                                "
   ]
  },
  {
   "cell_type": "code",
   "execution_count": null,
   "id": "3b6cddcc-ee63-45d5-8858-45d1b0fbf4d3",
   "metadata": {},
   "outputs": [],
   "source": [
    "display_plot(gold_df.PCA1, 'PCA1 with time')"
   ]
  },
  {
   "cell_type": "code",
   "execution_count": null,
   "id": "c9e463bb-00f6-4668-b6d2-b096e4fbc8d8",
   "metadata": {},
   "outputs": [],
   "source": [
    "# data['rolling_mean'] = data['num_orders'].shift().rolling(rolling_mean_size).mean()\n",
    "gold_df['Rolling_mean_PCA2'] = gold_df.PCA2.rolling(100).mean()\n",
    "gold_df['Rolling_mean_PCA1'] = gold_df.PCA1.rolling(100).mean()"
   ]
  },
  {
   "cell_type": "code",
   "execution_count": null,
   "id": "98ae9b36-abaa-4415-9771-4e195678b655",
   "metadata": {},
   "outputs": [],
   "source": [
    "display_plot(gold_df, 'title')"
   ]
  },
  {
   "cell_type": "code",
   "execution_count": null,
   "id": "d00daba2-a339-4ac8-a9eb-87064cf755bb",
   "metadata": {},
   "outputs": [],
   "source": [
    "from statsmodels.tsa.seasonal import seasonal_decompose\n",
    "decomposed = seasonal_decompose(gold_df)"
   ]
  },
  {
   "cell_type": "code",
   "execution_count": null,
   "id": "057c53d8-b6a0-40a8-b826-f94ac4233a38",
   "metadata": {},
   "outputs": [],
   "source": [
    "display_plot(gold_df, 'title')"
   ]
  },
  {
   "cell_type": "code",
   "execution_count": null,
   "id": "f8b96249-a1cc-45a0-a986-eab263e63251",
   "metadata": {},
   "outputs": [],
   "source": [
    "def decomposed_graphs(decomposed_data, title):\n",
    "    decomposed_data.plot(\n",
    "              figsize=(20,7),\n",
    "              legend = True,\n",
    "              alpha = 0.7,\n",
    "             )\n",
    "    plt.title(f'{title}', fontsize=\"xx-large\")\n",
    "    plt.legend(loc='upper center', bbox_to_anchor=(0.5, -0.2), ncol=4, fontsize=\"xx-large\")\n",
    "    plt.show()\n",
    "\n",
    "decomposed_graphs(decomposed.trend, \"trend\")\n",
    "decomposed_graphs(decomposed.seasonal, \"seasonality\")\n",
    "decomposed_graphs(decomposed.resid, \"The remainder of the decomposition\")"
   ]
  },
  {
   "cell_type": "code",
   "execution_count": null,
   "id": "4d7390ff-b14e-4640-b7d0-7ac763b6d9cb",
   "metadata": {},
   "outputs": [],
   "source": []
  }
 ],
 "metadata": {
  "kernelspec": {
   "display_name": "Python 3 (ipykernel)",
   "language": "python",
   "name": "python3"
  },
  "language_info": {
   "codemirror_mode": {
    "name": "ipython",
    "version": 3
   },
   "file_extension": ".py",
   "mimetype": "text/x-python",
   "name": "python",
   "nbconvert_exporter": "python",
   "pygments_lexer": "ipython3",
   "version": "3.10.9"
  }
 },
 "nbformat": 4,
 "nbformat_minor": 5
}
